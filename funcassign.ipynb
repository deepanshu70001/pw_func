{
 "cells": [
  {
   "cell_type": "code",
   "execution_count": 18,
   "id": "04147cbe-d7ea-4aff-a428-05bf20cee68d",
   "metadata": {},
   "outputs": [
    {
     "ename": "TypeError",
     "evalue": "'>' not supported between instances of 'tuple' and 'int'",
     "output_type": "error",
     "traceback": [
      "\u001b[0;31m---------------------------------------------------------------------------\u001b[0m",
      "\u001b[0;31mTypeError\u001b[0m                                 Traceback (most recent call last)",
      "Cell \u001b[0;32mIn[18], line 3\u001b[0m\n\u001b[1;32m      1\u001b[0m \u001b[38;5;28;01mfrom\u001b[39;00m \u001b[38;5;21;01mfunctools\u001b[39;00m \u001b[38;5;28;01mimport\u001b[39;00m reduce\n\u001b[1;32m      2\u001b[0m l\u001b[38;5;241m=\u001b[39m[(\u001b[38;5;124m'\u001b[39m\u001b[38;5;124mSachin Tendulkar\u001b[39m\u001b[38;5;124m'\u001b[39m, \u001b[38;5;241m34357\u001b[39m), (\u001b[38;5;124m'\u001b[39m\u001b[38;5;124mRicky Ponting\u001b[39m\u001b[38;5;124m'\u001b[39m, \u001b[38;5;241m27483\u001b[39m), (\u001b[38;5;124m'\u001b[39m\u001b[38;5;124mJack Kallis\u001b[39m\u001b[38;5;124m'\u001b[39m, \u001b[38;5;241m25534\u001b[39m), (\u001b[38;5;124m'\u001b[39m\u001b[38;5;124mVirat Kohli\u001b[39m\u001b[38;5;124m'\u001b[39m, \u001b[38;5;241m24936\u001b[39m)]\n\u001b[0;32m----> 3\u001b[0m s\u001b[38;5;241m=\u001b[39m\u001b[38;5;28mlist\u001b[39m(\u001b[43mreduce\u001b[49m\u001b[43m(\u001b[49m\u001b[38;5;28;43;01mlambda\u001b[39;49;00m\u001b[43m \u001b[49m\u001b[43mx\u001b[49m\u001b[43m \u001b[49m\u001b[43m,\u001b[49m\u001b[43my\u001b[49m\u001b[43m \u001b[49m\u001b[43m:\u001b[49m\u001b[43m \u001b[49m\u001b[43mx\u001b[49m\u001b[43m \u001b[49m\u001b[38;5;28;43;01mif\u001b[39;49;00m\u001b[43m \u001b[49m\u001b[43mx\u001b[49m\u001b[43m[\u001b[49m\u001b[38;5;241;43m1\u001b[39;49m\u001b[43m]\u001b[49m\u001b[38;5;241;43m>\u001b[39;49m\u001b[43my\u001b[49m\u001b[43m[\u001b[49m\u001b[38;5;241;43m1\u001b[39;49m\u001b[43m]\u001b[49m\u001b[43m \u001b[49m\u001b[38;5;28;43;01melse\u001b[39;49;00m\u001b[43m \u001b[49m\u001b[43my\u001b[49m\u001b[43m,\u001b[49m\u001b[43m \u001b[49m\u001b[43ml\u001b[49m\u001b[43m,\u001b[49m\u001b[43ml\u001b[49m\u001b[43m)\u001b[49m)\n\u001b[1;32m      4\u001b[0m \u001b[38;5;28;01mfor\u001b[39;00m i \u001b[38;5;129;01min\u001b[39;00m s :\n\u001b[1;32m      5\u001b[0m     \u001b[38;5;28mprint\u001b[39m(l[i])\n",
      "Cell \u001b[0;32mIn[18], line 3\u001b[0m, in \u001b[0;36m<lambda>\u001b[0;34m(x, y)\u001b[0m\n\u001b[1;32m      1\u001b[0m \u001b[38;5;28;01mfrom\u001b[39;00m \u001b[38;5;21;01mfunctools\u001b[39;00m \u001b[38;5;28;01mimport\u001b[39;00m reduce\n\u001b[1;32m      2\u001b[0m l\u001b[38;5;241m=\u001b[39m[(\u001b[38;5;124m'\u001b[39m\u001b[38;5;124mSachin Tendulkar\u001b[39m\u001b[38;5;124m'\u001b[39m, \u001b[38;5;241m34357\u001b[39m), (\u001b[38;5;124m'\u001b[39m\u001b[38;5;124mRicky Ponting\u001b[39m\u001b[38;5;124m'\u001b[39m, \u001b[38;5;241m27483\u001b[39m), (\u001b[38;5;124m'\u001b[39m\u001b[38;5;124mJack Kallis\u001b[39m\u001b[38;5;124m'\u001b[39m, \u001b[38;5;241m25534\u001b[39m), (\u001b[38;5;124m'\u001b[39m\u001b[38;5;124mVirat Kohli\u001b[39m\u001b[38;5;124m'\u001b[39m, \u001b[38;5;241m24936\u001b[39m)]\n\u001b[0;32m----> 3\u001b[0m s\u001b[38;5;241m=\u001b[39m\u001b[38;5;28mlist\u001b[39m(reduce(\u001b[38;5;28;01mlambda\u001b[39;00m x ,y : x \u001b[38;5;28;01mif\u001b[39;00m \u001b[43mx\u001b[49m\u001b[43m[\u001b[49m\u001b[38;5;241;43m1\u001b[39;49m\u001b[43m]\u001b[49m\u001b[38;5;241;43m>\u001b[39;49m\u001b[43my\u001b[49m\u001b[43m[\u001b[49m\u001b[38;5;241;43m1\u001b[39;49m\u001b[43m]\u001b[49m \u001b[38;5;28;01melse\u001b[39;00m y, l,l))\n\u001b[1;32m      4\u001b[0m \u001b[38;5;28;01mfor\u001b[39;00m i \u001b[38;5;129;01min\u001b[39;00m s :\n\u001b[1;32m      5\u001b[0m     \u001b[38;5;28mprint\u001b[39m(l[i])\n",
      "\u001b[0;31mTypeError\u001b[0m: '>' not supported between instances of 'tuple' and 'int'"
     ]
    }
   ],
   "source": []
  },
  {
   "cell_type": "code",
   "execution_count": 6,
   "id": "49724b75-f4d0-46de-a85d-5e33f5f3f644",
   "metadata": {},
   "outputs": [
    {
     "name": "stdout",
     "output_type": "stream",
     "text": [
      "[1, 4, 9, 16, 25, 36, 49, 64, 81, 100]\n"
     ]
    }
   ],
   "source": [
    "#Q2)\n",
    "l=[1, 2, 3, 4, 5, 6, 7, 8, 9, 10]\n",
    "m=list(map(lambda x: x**2,l))\n",
    "print(m)"
   ]
  },
  {
   "cell_type": "code",
   "execution_count": 17,
   "id": "19f76273-621d-496d-ba70-995f3719fe00",
   "metadata": {},
   "outputs": [
    {
     "name": "stdout",
     "output_type": "stream",
     "text": [
      "('1', '2', '3', '4', '5', '6', '7', '8', '9', '10')\n"
     ]
    }
   ],
   "source": [
    "#q3)\n",
    "l=[1, 2, 3, 4, 5, 6, 7, 8, 9, 10]\n",
    "m=tuple(map(lambda x : str(x),l))\n",
    "print(m)"
   ]
  },
  {
   "cell_type": "code",
   "execution_count": 19,
   "id": "6bd10c8e-12d0-43c8-be08-cac62ecc426d",
   "metadata": {},
   "outputs": [
    {
     "name": "stdout",
     "output_type": "stream",
     "text": [
      "15511210043330985984000000\n"
     ]
    }
   ],
   "source": [
    "#q4)\n",
    "from functools import reduce\n",
    "l=[]\n",
    "for i in range(1,26):\n",
    "    l.append(i)\n",
    "r=reduce(lambda x,y : x*y , l )\n",
    "print(r)\n"
   ]
  },
  {
   "cell_type": "code",
   "execution_count": 20,
   "id": "f0899a3c-06ff-4559-9f8b-a21a9bbe23bb",
   "metadata": {},
   "outputs": [
    {
     "name": "stdout",
     "output_type": "stream",
     "text": [
      "[2, 3, 6, 9, 27, 60, 90, 120, 46]\n"
     ]
    }
   ],
   "source": [
    "#q5)\n",
    "l=[2, 3, 6, 9, 27, 60, 90, 120, 55, 46]\n",
    "m=list(filter(lambda x: x%2==0 or x%3==0,l))\n",
    "print(m)"
   ]
  },
  {
   "cell_type": "code",
   "execution_count": 21,
   "id": "a4a0e1fa-cecf-4a11-a17f-5edc8a8e0961",
   "metadata": {},
   "outputs": [
    {
     "name": "stdout",
     "output_type": "stream",
     "text": [
      "['php', 'aba', 'radar', 'level']\n"
     ]
    }
   ],
   "source": [
    "#q6)\n",
    "l=['python', 'php', 'aba', 'radar', 'level']\n",
    "m=list(filter(lambda x : x==x[::-1],l))\n",
    "print(m)"
   ]
  },
  {
   "cell_type": "code",
   "execution_count": null,
   "id": "86c46c4d-8447-4286-83ab-185914d68976",
   "metadata": {},
   "outputs": [],
   "source": []
  }
 ],
 "metadata": {
  "kernelspec": {
   "display_name": "Python 3 (ipykernel)",
   "language": "python",
   "name": "python3"
  },
  "language_info": {
   "codemirror_mode": {
    "name": "ipython",
    "version": 3
   },
   "file_extension": ".py",
   "mimetype": "text/x-python",
   "name": "python",
   "nbconvert_exporter": "python",
   "pygments_lexer": "ipython3",
   "version": "3.10.8"
  }
 },
 "nbformat": 4,
 "nbformat_minor": 5
}
